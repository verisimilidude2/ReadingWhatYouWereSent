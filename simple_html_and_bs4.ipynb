{
 "cells": [
  {
   "cell_type": "markdown",
   "id": "281461be",
   "metadata": {},
   "source": [
    "# Using Beautiful Soup\n",
    "\n",
    "Beautiful Soup is a Python package used to analyze and manipulate HTML documents.  It is a part of the standard Anaconda distribution.  Since it is now on its fourth version we include it this way:"
   ]
  },
  {
   "cell_type": "code",
   "execution_count": 89,
   "id": "73d90919",
   "metadata": {},
   "outputs": [],
   "source": [
    "from bs4 import BeautifulSoup"
   ]
  },
  {
   "cell_type": "code",
   "execution_count": 90,
   "id": "543779f1",
   "metadata": {},
   "outputs": [],
   "source": [
    "simple_html = \"\"\"\\\n",
    "<!DOCTYPE html>\n",
    "<html>\n",
    "<head>\n",
    "<title>A simple html document</title>\n",
    "</head>\n",
    "\n",
    "<body>\n",
    "<h1>This is a simple html document</h1>\n",
    "<article>\n",
    "<p>The web as of 1995 would have simple documents like this one.  Since then\n",
    "additional technologies have been added.  <i>CSS</i> added suppport for styles,\n",
    "downloadable fonts extend the typographical possibilities for designers, <i>SVG<i>\n",
    "allows the browser to create any 2D image at any scale on-the-fly, sound and video\n",
    "players are integrated into browsers of today, <i>Javascript</i> and its XMLHttpRequest object made modern ads possible. Most recently <i>WebASM</i> has enabled the\n",
    "embedding of Python in a web page.\n",
    "</article>\n",
    "</body>\n",
    "</html>\n",
    "\"\"\""
   ]
  },
  {
   "cell_type": "markdown",
   "id": "8d424dfa",
   "metadata": {},
   "source": [
    "We invoke BeautifulSoup and get back a tree representing the HTML."
   ]
  },
  {
   "cell_type": "code",
   "execution_count": 91,
   "id": "9f993d6c",
   "metadata": {},
   "outputs": [],
   "source": [
    "soup = BeautifulSoup(simple_html, features=\"html.parser\")"
   ]
  },
  {
   "attachments": {
    "html_doc_tree.png": {
     "image/png": "[encoded data removed]"
    }
   },
   "cell_type": "markdown",
   "id": "fbf38a5a",
   "metadata": {},
   "source": [
    "![html_doc_tree.png](attachment:html_doc_tree.png)"
   ]
  },
  {
   "cell_type": "markdown",
   "id": "b26bbde9",
   "metadata": {},
   "source": [
    "We can now ask for just the text elements for all the elements in the tree.  \n",
    "\n",
    "This is not that useful."
   ]
  },
  {
   "cell_type": "code",
   "execution_count": 92,
   "id": "8ab36925",
   "metadata": {},
   "outputs": [
    {
     "data": {
      "text/plain": [
       "'\\n\\n\\nA simple html document\\n\\n\\nThis is a simple html document\\n\\nThe web as of 1995 would have simple documents like this one.  Since then\\nadditional technologies have been added.  CSS added suppport for styles,\\ndownloadable fonts extend the typographical possibilities for designers, SVG\\nallows the browser to create any 2D image at any scale on-the-fly, sound and video\\nplayers are integrated into browsers of today, Javascript and its XMLHttpRequest object made modern ads possible. Most recently WebASM has enabled the\\nembedding of Python in a web page.\\n\\n\\n\\n'"
      ]
     },
     "execution_count": 92,
     "metadata": {},
     "output_type": "execute_result"
    }
   ],
   "source": [
    "soup.text"
   ]
  },
  {
   "cell_type": "markdown",
   "id": "51dfcf3b",
   "metadata": {},
   "source": [
    "-----\n",
    "We could also ask for a list of elements inside the <article> tag and then print the text from each.  We do this with the _find_all()_ API"
   ]
  },
  {
   "cell_type": "code",
   "execution_count": 93,
   "id": "608805ec",
   "metadata": {},
   "outputs": [
    {
     "data": {
      "text/plain": [
       "bs4.element.Tag"
      ]
     },
     "execution_count": 93,
     "metadata": {},
     "output_type": "execute_result"
    }
   ],
   "source": [
    "article = soup.find(['article'])\n",
    "type(article)"
   ]
  },
  {
   "cell_type": "code",
   "execution_count": 94,
   "id": "b8920c40",
   "metadata": {},
   "outputs": [
    {
     "data": {
      "text/plain": [
       "<article>\n",
       "<p>The web as of 1995 would have simple documents like this one.  Since then\n",
       "additional technologies have been added.  <i>CSS</i> added suppport for styles,\n",
       "downloadable fonts extend the typographical possibilities for designers, <i>SVG<i>\n",
       "allows the browser to create any 2D image at any scale on-the-fly, sound and video\n",
       "players are integrated into browsers of today, <i>Javascript</i> and its XMLHttpRequest object made modern ads possible. Most recently <i>WebASM</i> has enabled the\n",
       "embedding of Python in a web page.\n",
       "</i></i></p></article>"
      ]
     },
     "execution_count": 94,
     "metadata": {},
     "output_type": "execute_result"
    }
   ],
   "source": [
    "article"
   ]
  },
  {
   "cell_type": "code",
   "execution_count": 95,
   "id": "432c3d1d",
   "metadata": {},
   "outputs": [
    {
     "name": "stdout",
     "output_type": "stream",
     "text": [
      "\n",
      "\n",
      "The web as of 1995 would have simple documents like this one.  Since then\n",
      "additional technologies have been added.  CSS added suppport for styles,\n",
      "downloadable fonts extend the typographical possibilities for designers, SVG\n",
      "allows the browser to create any 2D image at any scale on-the-fly, sound and video\n",
      "players are integrated into browsers of today, Javascript and its XMLHttpRequest object made modern ads possible. Most recently WebASM has enabled the\n",
      "embedding of Python in a web page.\n",
      "\n"
     ]
    }
   ],
   "source": [
    "for tag in article.children:\n",
    "    print(tag.text)"
   ]
  },
  {
   "cell_type": "markdown",
   "id": "d8ed5a1a",
   "metadata": {},
   "source": [
    "Getting closer!\n",
    "\n",
    "Now let's bring in some another Python package _textwrap_ that will give us nice readable lines."
   ]
  },
  {
   "cell_type": "code",
   "execution_count": 96,
   "id": "353fa34c",
   "metadata": {},
   "outputs": [],
   "source": [
    "import textwrap"
   ]
  },
  {
   "cell_type": "code",
   "execution_count": 97,
   "id": "2bb44973",
   "metadata": {},
   "outputs": [
    {
     "name": "stdout",
     "output_type": "stream",
     "text": [
      "\n",
      "The web as of 1995 would have simple documents like this one.  Since\n",
      "then additional technologies have been added.  CSS added suppport for\n",
      "styles, downloadable fonts extend the typographical possibilities for\n",
      "designers, SVG allows the browser to create any 2D image at any scale\n",
      "on-the-fly, sound and video players are integrated into browsers of\n",
      "today, Javascript and its XMLHttpRequest object made modern ads\n",
      "possible. Most recently WebASM has enabled the embedding of Python in\n",
      "a web page.\n"
     ]
    }
   ],
   "source": [
    "for tag in article.children:\n",
    "    print('\\n'.join(textwrap.wrap(tag.text)))"
   ]
  },
  {
   "cell_type": "markdown",
   "id": "c8ed544e",
   "metadata": {},
   "source": [
    "But all is not so easy.  In particular list tags give problems.\n",
    "\n",
    "So we make an HTML list in our document and then see what happens. "
   ]
  },
  {
   "cell_type": "code",
   "execution_count": 98,
   "id": "99ec104e",
   "metadata": {},
   "outputs": [],
   "source": [
    "simple_html_with_list = \"\"\"\\\n",
    "<!DOCTYPE html>\n",
    "<html>\n",
    "<head>\n",
    "<title>A simple html document</title>\n",
    "</head>\n",
    "\n",
    "<body>\n",
    "<h1>This is a simple html document</h1>\n",
    "<article>\n",
    "<p>The web as of 1995 would have simple documents like this one.  Since then\n",
    "additional technologies have been added.</p>\n",
    "<ul>\n",
    "<li><i>CSS</i> added suppport for styles,\n",
    "downloadable fonts extend the typographical possibilities for designers,</li>\n",
    "<li><i>SVG<i>\n",
    "allows the browser to create any 2D image at any scale on-the-fly,</li>\n",
    "<li>sound and video\n",
    "players are integrated into browsers of today,</li> <li><i>Javascript</i> and its XMLHttpRequest object made modern ads possible. Most recently <i>WebASM</i> has enabled the\n",
    "embedding of Python in a web page.</li>\n",
    "</ul>\n",
    "</article>\n",
    "</body>\n",
    "</html>\n",
    "\"\"\""
   ]
  },
  {
   "cell_type": "code",
   "execution_count": 99,
   "id": "ce2c25fd",
   "metadata": {},
   "outputs": [
    {
     "name": "stdout",
     "output_type": "stream",
     "text": [
      "\n",
      "The web as of 1995 would have simple documents like this one.  Since\n",
      "then additional technologies have been added.\n",
      "\n",
      " CSS added suppport for styles, downloadable fonts extend the\n",
      "typographical possibilities for designers, SVG allows the browser to\n",
      "create any 2D image at any scale on-the-fly, sound and video players\n",
      "are integrated into browsers of today, Javascript and its\n",
      "XMLHttpRequest object made modern ads possible. Most recently WebASM\n",
      "has enabled the embedding of Python in a web page.\n",
      "\n"
     ]
    }
   ],
   "source": [
    "soup2 = BeautifulSoup(simple_html_with_list, features=\"html.parser\")\n",
    "article2 = soup2.find(['article'])\n",
    "for tag in article2.children:\n",
    "    print('\\n'.join(textwrap.wrap(tag.text)))"
   ]
  },
  {
   "cell_type": "markdown",
   "id": "06672c41",
   "metadata": {},
   "source": [
    "The problem is that the list comes back as the child of the \\<p\\> tag.\n",
    "All the text elements in the list are retrieved from the tree and wrapped together, losing the fact this is a list.\n",
    "    \n",
    "We need to pull the article out as a distinct tree and then find the particular tags we want to print the text from."
   ]
  },
  {
   "cell_type": "code",
   "execution_count": 100,
   "id": "d519e7b1",
   "metadata": {},
   "outputs": [
    {
     "name": "stdout",
     "output_type": "stream",
     "text": [
      "The web as of 1995 would have simple documents like this one.  Since\n",
      "then additional technologies have been added.\n",
      "\n",
      "CSS added suppport for styles, downloadable fonts extend the\n",
      "typographical possibilities for designers,\n",
      "\n",
      "SVG allows the browser to create any 2D image at any scale on-the-fly,\n",
      "\n",
      "sound and video players are integrated into browsers of today,\n",
      "\n",
      "Javascript and its XMLHttpRequest object made modern ads possible.\n",
      "Most recently WebASM has enabled the embedding of Python in a web\n",
      "page.\n",
      "\n"
     ]
    }
   ],
   "source": [
    "soup2 = BeautifulSoup(simple_html_with_list, features=\"html.parser\")\n",
    "article3 = soup2.find(['article']).extract()\n",
    "for tag in article3.find_all(['p','li']):\n",
    "    print('\\n'.join(textwrap.wrap(tag.text))+'\\n')"
   ]
  },
  {
   "cell_type": "markdown",
   "id": "148117d5",
   "metadata": {},
   "source": [
    "We are getting close to something readable.  Let's emphasize the list by putting an \"o\" in front.  For this we need to look at what type of tag this is and process the \\<li\\> tags differently."
   ]
  },
  {
   "cell_type": "code",
   "execution_count": 101,
   "id": "97527f4f",
   "metadata": {},
   "outputs": [
    {
     "name": "stdout",
     "output_type": "stream",
     "text": [
      "The web as of 1995 would have simple documents like this one.  Since\n",
      "then additional technologies have been added.\n",
      "\n",
      "o CSS added suppport for styles, downloadable fonts extend the\n",
      "typographical possibilities for designers,\n",
      "\n",
      "o SVG allows the browser to create any 2D image at any scale on-the-fly,\n",
      "\n",
      "o sound and video players are integrated into browsers of today,\n",
      "\n",
      "o Javascript and its XMLHttpRequest object made modern ads possible.\n",
      "Most recently WebASM has enabled the embedding of Python in a web\n",
      "page.\n",
      "\n"
     ]
    }
   ],
   "source": [
    "for tag in article3.find_all(['p','li']):\n",
    "    if tag.name == 'li':\n",
    "        print(\"o \", end='')\n",
    "    print('\\n'.join(textwrap.wrap(tag.text))+'\\n')"
   ]
  },
  {
   "cell_type": "code",
   "execution_count": null,
   "id": "8fe2617c",
   "metadata": {},
   "outputs": [],
   "source": []
  }
 ],
 "metadata": {
  "kernelspec": {
   "display_name": "Python 3 (ipykernel)",
   "language": "python",
   "name": "python3"
  },
  "language_info": {
   "codemirror_mode": {
    "name": "ipython",
    "version": 3
   },
   "file_extension": ".py",
   "mimetype": "text/x-python",
   "name": "python",
   "nbconvert_exporter": "python",
   "pygments_lexer": "ipython3",
   "version": "3.11.5"
  }
 },
 "nbformat": 4,
 "nbformat_minor": 5
}
